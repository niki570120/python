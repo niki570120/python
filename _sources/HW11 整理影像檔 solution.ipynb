{
 "cells": [
  {
   "cell_type": "code",
   "execution_count": 2,
   "metadata": {},
   "outputs": [],
   "source": [
    "import os\n",
    "import shutil\n",
    "\n",
    "# 設定檔案及路徑\n",
    "file_name = './櫻桃小丸子.zip'\n",
    "directory = './output'\n",
    "unzip_folder = './櫻桃小丸子'\n",
    "\n",
    "# 建立新目錄\n",
    "if os.path.exists(directory):\n",
    "    shutil.rmtree(directory)\n",
    "os.makedirs(directory)"
   ]
  },
  {
   "cell_type": "code",
   "execution_count": 3,
   "metadata": {},
   "outputs": [],
   "source": [
    "# 解壓縮\n",
    "import zipfile\n",
    "with zipfile.ZipFile(file_name, 'r') as zip_ref:\n",
    "    zip_ref.extractall(unzip_folder)"
   ]
  },
  {
   "cell_type": "code",
   "execution_count": 4,
   "metadata": {},
   "outputs": [],
   "source": [
    "# 複製檔案並改名\n",
    "from shutil import copy2\n",
    "\n",
    "no = 1\n",
    "for file in os.listdir(unzip_folder):\n",
    "    source_file_path = os.path.join(unzip_folder, file)\n",
    "#     print(source_file_path)\n",
    "    if (file.lower().endswith(\".jpg\") or file.lower().endswith(\".jpeg\")) and os.path.getsize(source_file_path) >= 5 * 1024:\n",
    "        copy2(source_file_path, f'{directory}/{no:03d}.jpg')\n",
    "        no+=1"
   ]
  },
  {
   "cell_type": "code",
   "execution_count": null,
   "metadata": {},
   "outputs": [],
   "source": []
  }
 ],
 "metadata": {
  "kernelspec": {
   "display_name": "Python 3",
   "language": "python",
   "name": "python3"
  },
  "language_info": {
   "codemirror_mode": {
    "name": "ipython",
    "version": 3
   },
   "file_extension": ".py",
   "mimetype": "text/x-python",
   "name": "python",
   "nbconvert_exporter": "python",
   "pygments_lexer": "ipython3",
   "version": "3.8.8"
  }
 },
 "nbformat": 4,
 "nbformat_minor": 4
}
